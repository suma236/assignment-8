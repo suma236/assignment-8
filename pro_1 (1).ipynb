{
  "nbformat": 4,
  "nbformat_minor": 0,
  "metadata": {
    "colab": {
      "name": "pro 1.ipynb",
      "provenance": []
    },
    "kernelspec": {
      "name": "python3",
      "display_name": "Python 3"
    }
  },
  "cells": [
    {
      "cell_type": "code",
      "metadata": {
        "id": "8FBqd-q4IlL1",
        "colab_type": "code",
        "colab": {
          "base_uri": "https://localhost:8080/",
          "height": 168
        },
        "outputId": "b07d785a-17b1-457d-9cad-a84c63d39229"
      },
      "source": [
        "sampleStr =\" hello!!\"\n",
        "print(\"iterate over string using for loop\")\n",
        "for elem in sampleStr:\n",
        "    print(elem)"
      ],
      "execution_count": 1,
      "outputs": [
        {
          "output_type": "stream",
          "text": [
            "iterate over string using for loop\n",
            " \n",
            "h\n",
            "e\n",
            "l\n",
            "l\n",
            "o\n",
            "!\n",
            "!\n"
          ],
          "name": "stdout"
        }
      ]
    }
  ]
}