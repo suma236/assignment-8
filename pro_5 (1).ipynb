{
  "nbformat": 4,
  "nbformat_minor": 0,
  "metadata": {
    "colab": {
      "name": "pro 5.ipynb",
      "provenance": []
    },
    "kernelspec": {
      "name": "python3",
      "display_name": "Python 3"
    }
  },
  "cells": [
    {
      "cell_type": "code",
      "metadata": {
        "id": "hBDT8F2yKysY",
        "colab_type": "code",
        "colab": {
          "base_uri": "https://localhost:8080/",
          "height": 50
        },
        "outputId": "6bc528a0-8724-48aa-ad56-cbbdc3e9d9cb"
      },
      "source": [
        "str1=\"this is suma\"\n",
        "print(str1.split(' '))\n",
        "str1=\"this-is-suma\"\n",
        "print(str1.split('-'))"
      ],
      "execution_count": 1,
      "outputs": [
        {
          "output_type": "stream",
          "text": [
            "['this', 'is', 'suma']\n",
            "['this', 'is', 'suma']\n"
          ],
          "name": "stdout"
        }
      ]
    }
  ]
}