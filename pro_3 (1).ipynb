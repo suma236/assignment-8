{
  "nbformat": 4,
  "nbformat_minor": 0,
  "metadata": {
    "colab": {
      "name": "pro 3.ipynb",
      "provenance": []
    },
    "kernelspec": {
      "name": "python3",
      "display_name": "Python 3"
    }
  },
  "cells": [
    {
      "cell_type": "code",
      "metadata": {
        "id": "vLaHfQuhJ8sp",
        "colab_type": "code",
        "colab": {
          "base_uri": "https://localhost:8080/",
          "height": 34
        },
        "outputId": "130332dc-9ac0-4dc8-d7d1-513e075760a8"
      },
      "source": [
        "def findLength(string):\n",
        "    count=0\n",
        "    for i in string:\n",
        "        count+=1\n",
        "    return count\n",
        "string=\"refrigerator\"\n",
        "print(findLength(string))"
      ],
      "execution_count": 1,
      "outputs": [
        {
          "output_type": "stream",
          "text": [
            "12\n"
          ],
          "name": "stdout"
        }
      ]
    }
  ]
}