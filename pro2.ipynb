{
  "nbformat": 4,
  "nbformat_minor": 0,
  "metadata": {
    "colab": {
      "name": "pro2.ipynb",
      "provenance": []
    },
    "kernelspec": {
      "name": "python3",
      "display_name": "Python 3"
    }
  },
  "cells": [
    {
      "cell_type": "code",
      "metadata": {
        "id": "LwVbcDl9JrRE",
        "colab_type": "code",
        "colab": {}
      },
      "source": [
        "def remove(string,i):\n",
        "    for j in range(len(string)):\n",
        "        if j==i:\n",
        "            string=string.replace(string[i], \" \",1)\n",
        "    return string\n",
        "if__name__ == '__main__':\n",
        "    string=\"python program\"\n",
        "    i=5\n",
        "    print(remove(string,i))"
      ],
      "execution_count": null,
      "outputs": []
    }
  ]
}